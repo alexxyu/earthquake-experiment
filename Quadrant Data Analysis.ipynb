{
 "cells": [
  {
   "cell_type": "code",
   "execution_count": 29,
   "metadata": {},
   "outputs": [],
   "source": [
    "import numpy as np\n",
    "import pandas as pd\n",
    "import scipy.stats as st\n",
    "import glob"
   ]
  },
  {
   "cell_type": "code",
   "execution_count": 42,
   "metadata": {},
   "outputs": [
    {
     "name": "stdout",
     "output_type": "stream",
     "text": [
      "Subject NT006\n",
      "=============\n",
      "P(hit): 0.838\n",
      "P(fa): 0.36\n",
      "z(hit): 0.986\n",
      "z(fa): -0.358\n",
      "d': 1.345\n",
      "\n",
      "Subject NN005\n",
      "=============\n",
      "P(hit): 0.778\n",
      "P(fa): 0.183\n",
      "z(hit): 0.765\n",
      "z(fa): -0.903\n",
      "d': 1.668\n",
      "\n",
      "Subject DN003\n",
      "=============\n",
      "P(hit): 0.89\n",
      "P(fa): 0.333\n",
      "z(hit): 1.227\n",
      "z(fa): -0.431\n",
      "d': 1.657\n",
      "\n",
      "Subject KT002\n",
      "=============\n",
      "P(hit): 0.806\n",
      "P(fa): 0.293\n",
      "z(hit): 0.863\n",
      "z(fa): -0.544\n",
      "d': 1.407\n",
      "\n",
      "Subject SK001\n",
      "=============\n",
      "P(hit): 0.87\n",
      "P(fa): 0.33\n",
      "z(hit): 1.126\n",
      "z(fa): -0.44\n",
      "d': 1.566\n",
      "\n"
     ]
    }
   ],
   "source": [
    "d_prime_vals = []\n",
    "\n",
    "for file in glob.glob('QuadrantData/*.csv'):\n",
    "\n",
    "    data = pd.read_csv(file)\n",
    "    n_hit, n_miss, n_fa, n_cr = 0, 0, 0, 0\n",
    "\n",
    "    for col in data.filter(like='Label'):\n",
    "        value_counts = data[col].value_counts() \n",
    "        n_hit += int(value_counts['Hit'])\n",
    "        n_miss += int(value_counts['Miss'])\n",
    "        n_fa += int(value_counts['Fa0lse alarm'])\n",
    "        n_cr += int(value_counts['Correct rejection'])\n",
    "\n",
    "    print(f\"Subject {file[-9:-4]}\")    \n",
    "    print(\"=============\")\n",
    "        \n",
    "    p_hit = n_hit / (n_hit + n_miss)\n",
    "    p_fa = n_fa / (n_fa + n_cr)\n",
    "    print(f\"P(hit): {round(p_hit, 3)}\")\n",
    "    print(f\"P(fa): {round(p_fa, 3)}\")\n",
    "\n",
    "    z_hit = st.norm.ppf(p_hit)\n",
    "    z_fa = st.norm.ppf(p_fa)\n",
    "    print(f\"z(hit): {round(z_hit, 3)}\")\n",
    "    print(f\"z(fa): {round(z_fa, 3)}\")\n",
    "\n",
    "    d_prime = z_hit - z_fa\n",
    "    print(f\"d': {round(d_prime, 3)}\")\n",
    "    print()\n",
    "    \n",
    "    d_prime_vals.append(d_prime)"
   ]
  },
  {
   "cell_type": "code",
   "execution_count": 40,
   "metadata": {},
   "outputs": [
    {
     "name": "stdout",
     "output_type": "stream",
     "text": [
      "Mean: 1.5286807052449034\n",
      "Std: 0.1312043372960051\n"
     ]
    }
   ],
   "source": [
    "print(f\"Mean: {np.mean(d_prime_vals)}\")\n",
    "print(f\"Std: {np.std(d_prime_vals)}\")"
   ]
  },
  {
   "cell_type": "code",
   "execution_count": null,
   "metadata": {},
   "outputs": [],
   "source": []
  }
 ],
 "metadata": {
  "kernelspec": {
   "display_name": "Python 3",
   "language": "python",
   "name": "python3"
  },
  "language_info": {
   "codemirror_mode": {
    "name": "ipython",
    "version": 3
   },
   "file_extension": ".py",
   "mimetype": "text/x-python",
   "name": "python",
   "nbconvert_exporter": "python",
   "pygments_lexer": "ipython3",
   "version": "3.6.0"
  }
 },
 "nbformat": 4,
 "nbformat_minor": 2
}
